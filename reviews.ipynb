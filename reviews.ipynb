{
  "nbformat": 4,
  "nbformat_minor": 0,
  "metadata": {
    "colab": {
      "name": "reviews.ipynb",
      "provenance": [],
      "authorship_tag": "ABX9TyOsc7B5Bz6xQZKOt5Z9K0KJ",
      "include_colab_link": true
    },
    "kernelspec": {
      "name": "python3",
      "display_name": "Python 3"
    },
    "language_info": {
      "name": "python"
    }
  },
  "cells": [
    {
      "cell_type": "markdown",
      "metadata": {
        "id": "view-in-github",
        "colab_type": "text"
      },
      "source": [
        "<a href=\"https://colab.research.google.com/github/astha77-bot/Play-store-reviews-scrapper/blob/main/reviews.ipynb\" target=\"_parent\"><img src=\"https://colab.research.google.com/assets/colab-badge.svg\" alt=\"Open In Colab\"/></a>"
      ]
    },
    {
      "cell_type": "code",
      "metadata": {
        "colab": {
          "base_uri": "https://localhost:8080/"
        },
        "id": "alJ0xovQPOIz",
        "outputId": "d42a464a-2012-48c3-b2c4-7695c84f8673"
      },
      "source": [
        "!pip install -qq google-play-scraper"
      ],
      "execution_count": null,
      "outputs": [
        {
          "output_type": "stream",
          "text": [
            "\u001b[?25l\r\u001b[K     |██████▋                         | 10kB 16.4MB/s eta 0:00:01\r\u001b[K     |█████████████▎                  | 20kB 13.9MB/s eta 0:00:01\r\u001b[K     |████████████████████            | 30kB 10.0MB/s eta 0:00:01\r\u001b[K     |██████████████████████████▌     | 40kB 8.8MB/s eta 0:00:01\r\u001b[K     |████████████████████████████████| 51kB 2.8MB/s \n",
            "\u001b[?25h  Building wheel for google-play-scraper (setup.py) ... \u001b[?25l\u001b[?25hdone\n"
          ],
          "name": "stdout"
        }
      ]
    },
    {
      "cell_type": "code",
      "metadata": {
        "id": "yva4Tzb2Sbdv"
      },
      "source": [
        "!pip install -qq -U watermark"
      ],
      "execution_count": null,
      "outputs": []
    },
    {
      "cell_type": "code",
      "metadata": {
        "colab": {
          "base_uri": "https://localhost:8080/"
        },
        "id": "rCCUO1jxSfkr",
        "outputId": "a31776ed-b0f4-476b-b434-c45735ce4a70"
      },
      "source": [
        "#for apps logos(if required)\n",
        "%reload_ext watermark\n",
        "%watermark -v -p pandas,matplotlib,seaborn,google_play_scraper"
      ],
      "execution_count": null,
      "outputs": [
        {
          "output_type": "stream",
          "text": [
            "Python implementation: CPython\n",
            "Python version       : 3.7.10\n",
            "IPython version      : 5.5.0\n",
            "\n",
            "pandas             : 1.1.5\n",
            "matplotlib         : 3.2.2\n",
            "seaborn            : 0.11.1\n",
            "google_play_scraper: 0.1.2\n",
            "\n"
          ],
          "name": "stdout"
        }
      ]
    },
    {
      "cell_type": "code",
      "metadata": {
        "id": "vp6PHkXLSmOw"
      },
      "source": [
        "import json\n",
        "import pandas as pd\n",
        "from tqdm import tqdm\n",
        "\n",
        "import seaborn as sns\n",
        "import matplotlib.pyplot as plt\n",
        "#Python package to highlight code snippets.\n",
        "from pygments import highlight\n",
        "from pygments.lexers import JsonLexer\n",
        "from pygments.formatters import TerminalFormatter\n",
        "\n",
        "from google_play_scraper import Sort, reviews, app\n",
        "#seaborn and matplotlib are used for visualisation\n",
        "%matplotlib inline\n",
        "%config InlineBackend.figure_format='retina'\n",
        "\n",
        "sns.set(style='whitegrid', palette='muted', font_scale=1.2)"
      ],
      "execution_count": null,
      "outputs": []
    },
    {
      "cell_type": "code",
      "metadata": {
        "id": "IfxVFix0TV5w"
      },
      "source": [
        "app_packages=[\n",
        "'sisinc.com.sis'\n",
        "]"
      ],
      "execution_count": null,
      "outputs": []
    },
    {
      "cell_type": "code",
      "metadata": {
        "colab": {
          "base_uri": "https://localhost:8080/"
        },
        "id": "A9Cc4CG9UARC",
        "outputId": "10ebe6fe-ae6d-43c1-c1b8-34a5d8f6668f"
      },
      "source": [
        "len(app_packages)"
      ],
      "execution_count": null,
      "outputs": [
        {
          "output_type": "execute_result",
          "data": {
            "text/plain": [
              "1"
            ]
          },
          "metadata": {
            "tags": []
          },
          "execution_count": 13
        }
      ]
    },
    {
      "cell_type": "code",
      "metadata": {
        "colab": {
          "base_uri": "https://localhost:8080/"
        },
        "id": "MzPN6jkTUJXt",
        "outputId": "7870cce5-da54-4903-8547-05a68c884a35"
      },
      "source": [
        "app_infos = []\n",
        "#user country as well as language you're looking for\n",
        "#for loop as if you want multiple app packages\n",
        "for ap in tqdm(app_packages):\n",
        "  info = app(ap, lang='en', country='us')\n",
        "  del info['comments']\n",
        "  app_infos.append(info)"
      ],
      "execution_count": null,
      "outputs": [
        {
          "output_type": "stream",
          "text": [
            "100%|██████████| 1/1 [00:00<00:00,  5.84it/s]\n"
          ],
          "name": "stderr"
        }
      ]
    },
    {
      "cell_type": "code",
      "metadata": {
        "id": "L6twrRx3Vd7h"
      },
      "source": [
        "  #scrapper will generate very unsystematics reviews format,so use jsonlexer from pygments package\n"
      ],
      "execution_count": null,
      "outputs": []
    },
    {
      "cell_type": "code",
      "metadata": {
        "id": "40cRXv14WXvC"
      },
      "source": [
        "\n",
        "def print_json(json_object):\n",
        "  json_str = json.dumps(\n",
        "    json_object, \n",
        "    indent=2, \n",
        "    sort_keys=True, \n",
        "    default=str\n",
        "  )\n",
        "  print(highlight(json_str, JsonLexer(), TerminalFormatter()))"
      ],
      "execution_count": null,
      "outputs": []
    },
    {
      "cell_type": "code",
      "metadata": {
        "colab": {
          "base_uri": "https://localhost:8080/"
        },
        "id": "Kh79YcvmWaoN",
        "outputId": "453be1f6-91f7-40aa-a71e-9f1bbc4ee9a7"
      },
      "source": [
        "print_json(app_infos[0])"
      ],
      "execution_count": null,
      "outputs": [
        {
          "output_type": "stream",
          "text": [
            "{\n",
            "  \u001b[94m\"adSupported\"\u001b[39;49;00m: \u001b[34mtrue\u001b[39;49;00m,\n",
            "  \u001b[94m\"androidVersion\"\u001b[39;49;00m: \u001b[33m\"5.0\"\u001b[39;49;00m,\n",
            "  \u001b[94m\"androidVersionText\"\u001b[39;49;00m: \u001b[33m\"5.0 and up\"\u001b[39;49;00m,\n",
            "  \u001b[94m\"appId\"\u001b[39;49;00m: \u001b[33m\"sisinc.com.sis\"\u001b[39;49;00m,\n",
            "  \u001b[94m\"containsAds\"\u001b[39;49;00m: \u001b[34mtrue\u001b[39;49;00m,\n",
            "  \u001b[94m\"contentRating\"\u001b[39;49;00m: \u001b[33m\"Mature 17+\"\u001b[39;49;00m,\n",
            "  \u001b[94m\"contentRatingDescription\"\u001b[39;49;00m: \u001b[34mnull\u001b[39;49;00m,\n",
            "  \u001b[94m\"currency\"\u001b[39;49;00m: \u001b[33m\"USD\"\u001b[39;49;00m,\n",
            "  \u001b[94m\"description\"\u001b[39;49;00m: \u001b[33m\"Meme Chat is the ultimate social networking app to revolutionize the world of memes.  Its a social networking app made for meme lovers and meme makers around the world!\\r\\n\\r\\nDon\\u2019t we love watching and sharing memes? Why not have a community for it!\\r\\nPerfect entertainment best known for curing depression, sadness and will fulfill your greed for humor. Join Meme Chat and start uploading funny memes on this one of its kind meme social network.\\r\\n\\r\\nMeme Social Network:\\r\\nMeme Chat is going to be your next favorite social media network. You can get registered on the app and choose from various categories of your own interests and connect with millions of meme lovers from around the globe. \\r\\n\\r\\nTry Out Meme Keyboard:\\r\\nActivate the meme keyboard and start sending cool memes to your friends in a flash. Just search for the relevant meme or template and send it right away in any messaging app!\\r\\n\\r\\nMeme Maker and Free Meme Templates:\\r\\nMeme Chat provides you with the best in built meme maker that will not only allow you to use your own images, but will also provide you with thousands of famous and trending meme templates that you can crop, add interesting stickers and your own text to make memes easily!\\r\\n\\r\\nMemes Heaven:\\r\\nThis meme social network app is home of trending funny memes. You will love to spend your quality time in this Meme Paradise as you will be bombarded with hundreds of new memes daily.\\r\\n\\r\\nMake Money From Memes:\\r\\nLook out for Paid Templates & Requested Memes section. Make memes on various TV shows, products or perform easy tasks to get rewarded with MemeChat Coins which you can later redeem into real money!\\r\\n\\r\\nFeatures of Meme Chat: Meme Keyboard, Indian Memes App:\\r\\n\\u2022\\tGet registered and start posting memes in a matter of seconds\\r\\n\\u2022\\tCreate your own chats or join others by using a link.\\r\\n\\u2022\\tUse Meme Keyboard to explore, share and start trending funny memes on the go.\\r\\n\\u2022\\tFollow people and get followed by thousands of Meme lovers from around the world.\\r\\n\\u2022\\tA unique money making app where users will get an opportunity to earn from their creamy and original content created with the help of Meme Chat Stocks\\r\\n\\u2022\\tEarn points and stay active to be on highest place on our leaderboard\\r\\n\\u2022\\tUse built in Meme editor, become an artist. Crop images, add stickers or text to create your own memes\\r\\n\\u2022\\tGet your Memes featured and earn start earning money\\r\\n\\u2022\\tYou can go anonymous and be assured that your security and privacy are our priority\\r\\n\\r\\nIf you are a true meme lover, you definitely need to be on MemeChat. Join today and bring smiles to your face.  Download Meme Chat \\u2013 Indian Memes App today!\"\u001b[39;49;00m,\n",
            "  \u001b[94m\"descriptionHTML\"\u001b[39;49;00m: \u001b[33m\"Meme Chat is the ultimate social networking app to revolutionize the world of memes.  Its a social networking app made for meme lovers and meme makers around the world!<br><br>Don\\u2019t we love watching and sharing memes? Why not have a community for it!<br>Perfect entertainment best known for curing depression, sadness and will fulfill your greed for humor. Join Meme Chat and start uploading funny memes on this one of its kind meme social network.<br><br>Meme Social Network:<br>Meme Chat is going to be your next favorite social media network. You can get registered on the app and choose from various categories of your own interests and connect with millions of meme lovers from around the globe. <br><br>Try Out Meme Keyboard:<br>Activate the meme keyboard and start sending cool memes to your friends in a flash. Just search for the relevant meme or template and send it right away in any messaging app!<br><br>Meme Maker and Free Meme Templates:<br>Meme Chat provides you with the best in built meme maker that will not only allow you to use your own images, but will also provide you with thousands of famous and trending meme templates that you can crop, add interesting stickers and your own text to make memes easily!<br><br>Memes Heaven:<br>This meme social network app is home of trending funny memes. You will love to spend your quality time in this Meme Paradise as you will be bombarded with hundreds of new memes daily.<br><br>Make Money From Memes:<br>Look out for Paid Templates &amp; Requested Memes section. Make memes on various TV shows, products or perform easy tasks to get rewarded with MemeChat Coins which you can later redeem into real money!<br><br>Features of Meme Chat: Meme Keyboard, Indian Memes App:<br>\\u2022\\tGet registered and start posting memes in a matter of seconds<br>\\u2022\\tCreate your own chats or join others by using a link.<br>\\u2022\\tUse Meme Keyboard to explore, share and start trending funny memes on the go.<br>\\u2022\\tFollow people and get followed by thousands of Meme lovers from around the world.<br>\\u2022\\tA unique money making app where users will get an opportunity to earn from their creamy and original content created with the help of Meme Chat Stocks<br>\\u2022\\tEarn points and stay active to be on highest place on our leaderboard<br>\\u2022\\tUse built in Meme editor, become an artist. Crop images, add stickers or text to create your own memes<br>\\u2022\\tGet your Memes featured and earn start earning money<br>\\u2022\\tYou can go anonymous and be assured that your security and privacy are our priority<br><br>If you are a true meme lover, you definitely need to be on MemeChat. Join today and bring smiles to your face.  Download Meme Chat \\u2013 Indian Memes App today!\"\u001b[39;49;00m,\n",
            "  \u001b[94m\"developer\"\u001b[39;49;00m: \u001b[33m\"Meme Chat Pvt. Ltd.\"\u001b[39;49;00m,\n",
            "  \u001b[94m\"developerAddress\"\u001b[39;49;00m: \u001b[34mnull\u001b[39;49;00m,\n",
            "  \u001b[94m\"developerEmail\"\u001b[39;49;00m: \u001b[33m\"contact@memechat.app\"\u001b[39;49;00m,\n",
            "  \u001b[94m\"developerId\"\u001b[39;49;00m: \u001b[33m\"Meme+Chat+Pvt.+Ltd.\"\u001b[39;49;00m,\n",
            "  \u001b[94m\"developerInternalID\"\u001b[39;49;00m: \u001b[33m\"9035387236720478977\"\u001b[39;49;00m,\n",
            "  \u001b[94m\"developerWebsite\"\u001b[39;49;00m: \u001b[33m\"http://memechat.app/\"\u001b[39;49;00m,\n",
            "  \u001b[94m\"editorsChoice\"\u001b[39;49;00m: \u001b[34mfalse\u001b[39;49;00m,\n",
            "  \u001b[94m\"free\"\u001b[39;49;00m: \u001b[34mtrue\u001b[39;49;00m,\n",
            "  \u001b[94m\"genre\"\u001b[39;49;00m: \u001b[33m\"Entertainment\"\u001b[39;49;00m,\n",
            "  \u001b[94m\"genreId\"\u001b[39;49;00m: \u001b[33m\"ENTERTAINMENT\"\u001b[39;49;00m,\n",
            "  \u001b[94m\"headerImage\"\u001b[39;49;00m: \u001b[33m\"https://play-lh.googleusercontent.com/Dp0t9s5rQqLySpE6MPM2XjJz4filzAK6hv9nEv3PUtM8QNlHfW75a-LD2Hv5Fug6rvk\"\u001b[39;49;00m,\n",
            "  \u001b[94m\"histogram\"\u001b[39;49;00m: [\n",
            "    \u001b[34m4129\u001b[39;49;00m,\n",
            "    \u001b[34m613\u001b[39;49;00m,\n",
            "    \u001b[34m980\u001b[39;49;00m,\n",
            "    \u001b[34m1109\u001b[39;49;00m,\n",
            "    \u001b[34m11317\u001b[39;49;00m\n",
            "  ],\n",
            "  \u001b[94m\"icon\"\u001b[39;49;00m: \u001b[33m\"https://play-lh.googleusercontent.com/oUkmCh_dMH7dsNjr7ZzSWeCzD66tJss6J80oUb8pUpG0hDdjacAlDJzuvqooyD20HQ\"\u001b[39;49;00m,\n",
            "  \u001b[94m\"inAppProductPrice\"\u001b[39;49;00m: \u001b[34mnull\u001b[39;49;00m,\n",
            "  \u001b[94m\"installs\"\u001b[39;49;00m: \u001b[33m\"1,000,000+\"\u001b[39;49;00m,\n",
            "  \u001b[94m\"minInstalls\"\u001b[39;49;00m: \u001b[34m1000000\u001b[39;49;00m,\n",
            "  \u001b[94m\"offersIAP\"\u001b[39;49;00m: \u001b[34mfalse\u001b[39;49;00m,\n",
            "  \u001b[94m\"originalPrice\"\u001b[39;49;00m: \u001b[34mnull\u001b[39;49;00m,\n",
            "  \u001b[94m\"price\"\u001b[39;49;00m: \u001b[34m0\u001b[39;49;00m,\n",
            "  \u001b[94m\"privacyPolicy\"\u001b[39;49;00m: \u001b[33m\"https://memechat.app/privacy.html\"\u001b[39;49;00m,\n",
            "  \u001b[94m\"ratings\"\u001b[39;49;00m: \u001b[34m18148\u001b[39;49;00m,\n",
            "  \u001b[94m\"recentChanges\"\u001b[39;49;00m: \u001b[33m\"NEW YEAR, NEW UPDATE: A LOT OF NEW THINGS ARE WAITING FOR YOU IN THIS UPDATE:\\r\\n\\ud83d\\ude0eNEW UI\\ud83d\\ude0e\\r\\n\\u21a9\\ufe0fYOU CAN NOW REPLY TO COMMENTS!\\u21a9\\ufe0f\\r\\n\\u2694\\ufe0fMEMECHAT GROUP BATTLES\\u2694\\ufe0f\\r\\n\\ud83d\\udcbeSAVE YOUR FAVOURITE MEMES IN KEYBOARD\\ud83d\\udcbe\"\u001b[39;49;00m,\n",
            "  \u001b[94m\"recentChangesHTML\"\u001b[39;49;00m: \u001b[33m\"NEW YEAR, NEW UPDATE: A LOT OF NEW THINGS ARE WAITING FOR YOU IN THIS UPDATE:<br>\\ud83d\\ude0eNEW UI\\ud83d\\ude0e<br>\\u21a9\\ufe0fYOU CAN NOW REPLY TO COMMENTS!\\u21a9\\ufe0f<br>\\u2694\\ufe0fMEMECHAT GROUP BATTLES\\u2694\\ufe0f<br>\\ud83d\\udcbeSAVE YOUR FAVOURITE MEMES IN KEYBOARD\\ud83d\\udcbe\"\u001b[39;49;00m,\n",
            "  \u001b[94m\"released\"\u001b[39;49;00m: \u001b[33m\"Jul 5, 2017\"\u001b[39;49;00m,\n",
            "  \u001b[94m\"reviews\"\u001b[39;49;00m: \u001b[34m7206\u001b[39;49;00m,\n",
            "  \u001b[94m\"sale\"\u001b[39;49;00m: \u001b[34mfalse\u001b[39;49;00m,\n",
            "  \u001b[94m\"saleText\"\u001b[39;49;00m: \u001b[34mnull\u001b[39;49;00m,\n",
            "  \u001b[94m\"saleTime\"\u001b[39;49;00m: \u001b[34mnull\u001b[39;49;00m,\n",
            "  \u001b[94m\"score\"\u001b[39;49;00m: \u001b[34m3.8194218\u001b[39;49;00m,\n",
            "  \u001b[94m\"screenshots\"\u001b[39;49;00m: [\n",
            "    \u001b[33m\"https://play-lh.googleusercontent.com/WkOg52ZIFvh6SeAn4SQULsgKcy2JRcz2aB56agyL24ugZpaLQGBKtQRIoLwKbKk74CA\"\u001b[39;49;00m,\n",
            "    \u001b[33m\"https://play-lh.googleusercontent.com/eFXWHFEvTEktdYvFeB6CbH5fLrmPWtjnNEU6-6KPDoR1Hw8EodME6eT56hXAo_6_sQM\"\u001b[39;49;00m,\n",
            "    \u001b[33m\"https://play-lh.googleusercontent.com/nTQN3T7U7XQP_fbZq1-HVYs2Jd-1Fajtxpgc7p5ThJfdN9L21bX6wP8DX5s-w24-ATI6\"\u001b[39;49;00m,\n",
            "    \u001b[33m\"https://play-lh.googleusercontent.com/ILs7umWcaBq03D8M9YSL-j0S5VkmptzYNWSTDjn2oaKpx79_CHQDe2XFnDNQM7_xcA\"\u001b[39;49;00m,\n",
            "    \u001b[33m\"https://play-lh.googleusercontent.com/ZQOI5-d1ZuYUXroDAamjkn1-7EKOSNrUd_fzZuLBNAP9FHv50HSetLytBYa0bzh3AvDz\"\u001b[39;49;00m,\n",
            "    \u001b[33m\"https://play-lh.googleusercontent.com/HluOR9-XkSQPjO3Xr2fefYsZlWZGFzdDhRUhDH9JQLdh2VmQtpx34EtIs41n8bgq9FU\"\u001b[39;49;00m,\n",
            "    \u001b[33m\"https://play-lh.googleusercontent.com/cwKAL0_fbWiWyqQJsPuxdOiHoqBB_XS7SYWlaD_3WnzV_RBc_Xxn7Uk7C1T40sed5QY\"\u001b[39;49;00m\n",
            "  ],\n",
            "  \u001b[94m\"size\"\u001b[39;49;00m: \u001b[33m\"66M\"\u001b[39;49;00m,\n",
            "  \u001b[94m\"summary\"\u001b[39;49;00m: \u001b[33m\"Make Memes, Make Money & Make Communities - India's ultimate meme & keyboard app\"\u001b[39;49;00m,\n",
            "  \u001b[94m\"summaryHTML\"\u001b[39;49;00m: \u001b[33m\"Make Memes, Make Money &amp; Make Communities - India&#39;s ultimate meme &amp; keyboard app\"\u001b[39;49;00m,\n",
            "  \u001b[94m\"title\"\u001b[39;49;00m: \u001b[33m\"MemeChat - Memes, Keyboard, Trends & News\"\u001b[39;49;00m,\n",
            "  \u001b[94m\"updated\"\u001b[39;49;00m: \u001b[34m1609507895\u001b[39;49;00m,\n",
            "  \u001b[94m\"url\"\u001b[39;49;00m: \u001b[33m\"https://play.google.com/store/apps/details?id=sisinc.com.sis&hl=en&gl=us\"\u001b[39;49;00m,\n",
            "  \u001b[94m\"version\"\u001b[39;49;00m: \u001b[33m\"5.02\"\u001b[39;49;00m,\n",
            "  \u001b[94m\"video\"\u001b[39;49;00m: \u001b[34mnull\u001b[39;49;00m,\n",
            "  \u001b[94m\"videoImage\"\u001b[39;49;00m: \u001b[34mnull\u001b[39;49;00m\n",
            "}\n",
            "\n"
          ],
          "name": "stdout"
        }
      ]
    },
    {
      "cell_type": "code",
      "metadata": {
        "colab": {
          "base_uri": "https://localhost:8080/",
          "height": 35
        },
        "id": "45tVZCn1XtXu",
        "outputId": "3339680c-3500-4d8c-9119-588c6fbe9a75"
      },
      "source": [
        "def format_title(title):\n",
        "  sep_index = title.find(':') if title.find(':') != -1 else title.find('-')\n",
        "  if sep_index != -1:\n",
        "    title = title[:sep_index]\n",
        "  return title[:10]\n",
        "\n",
        "fig, axs = plt.subplots(2, len(app_infos) // 2, figsize=(14, 5))\n",
        "\n",
        "for i, ax in enumerate(axs.flat):\n",
        "  ai = app_infos[i]\n",
        "  img = plt.imread(ai['icon'])\n",
        "  ax.imshow(img)\n",
        "  ax.set_title(format_title(ai['title']))\n",
        "  ax.axis('off')"
      ],
      "execution_count": null,
      "outputs": [
        {
          "output_type": "display_data",
          "data": {
            "text/plain": [
              "<Figure size 1008x360 with 0 Axes>"
            ]
          },
          "metadata": {
            "tags": []
          }
        }
      ]
    },
    {
      "cell_type": "code",
      "metadata": {
        "colab": {
          "base_uri": "https://localhost:8080/",
          "height": 185
        },
        "id": "riNS238sX4J-",
        "outputId": "11611c24-1f5c-495e-fc26-6bb9ca2657b3"
      },
      "source": [
        "app_infos_df=pd.DataFrame(app_infos)\n",
        "app_infos_df.head()"
      ],
      "execution_count": null,
      "outputs": [
        {
          "output_type": "execute_result",
          "data": {
            "text/html": [
              "<div>\n",
              "<style scoped>\n",
              "    .dataframe tbody tr th:only-of-type {\n",
              "        vertical-align: middle;\n",
              "    }\n",
              "\n",
              "    .dataframe tbody tr th {\n",
              "        vertical-align: top;\n",
              "    }\n",
              "\n",
              "    .dataframe thead th {\n",
              "        text-align: right;\n",
              "    }\n",
              "</style>\n",
              "<table border=\"1\" class=\"dataframe\">\n",
              "  <thead>\n",
              "    <tr style=\"text-align: right;\">\n",
              "      <th></th>\n",
              "      <th>title</th>\n",
              "      <th>description</th>\n",
              "      <th>descriptionHTML</th>\n",
              "      <th>summary</th>\n",
              "      <th>summaryHTML</th>\n",
              "      <th>installs</th>\n",
              "      <th>minInstalls</th>\n",
              "      <th>score</th>\n",
              "      <th>ratings</th>\n",
              "      <th>reviews</th>\n",
              "      <th>histogram</th>\n",
              "      <th>price</th>\n",
              "      <th>free</th>\n",
              "      <th>currency</th>\n",
              "      <th>sale</th>\n",
              "      <th>saleTime</th>\n",
              "      <th>originalPrice</th>\n",
              "      <th>saleText</th>\n",
              "      <th>offersIAP</th>\n",
              "      <th>inAppProductPrice</th>\n",
              "      <th>size</th>\n",
              "      <th>androidVersion</th>\n",
              "      <th>androidVersionText</th>\n",
              "      <th>developer</th>\n",
              "      <th>developerId</th>\n",
              "      <th>developerEmail</th>\n",
              "      <th>developerWebsite</th>\n",
              "      <th>developerAddress</th>\n",
              "      <th>privacyPolicy</th>\n",
              "      <th>developerInternalID</th>\n",
              "      <th>genre</th>\n",
              "      <th>genreId</th>\n",
              "      <th>icon</th>\n",
              "      <th>headerImage</th>\n",
              "      <th>screenshots</th>\n",
              "      <th>video</th>\n",
              "      <th>videoImage</th>\n",
              "      <th>contentRating</th>\n",
              "      <th>contentRatingDescription</th>\n",
              "      <th>adSupported</th>\n",
              "      <th>containsAds</th>\n",
              "      <th>released</th>\n",
              "      <th>updated</th>\n",
              "      <th>version</th>\n",
              "      <th>recentChanges</th>\n",
              "      <th>recentChangesHTML</th>\n",
              "      <th>editorsChoice</th>\n",
              "      <th>appId</th>\n",
              "      <th>url</th>\n",
              "    </tr>\n",
              "  </thead>\n",
              "  <tbody>\n",
              "    <tr>\n",
              "      <th>0</th>\n",
              "      <td>MemeChat - Memes, Keyboard, Trends &amp; News</td>\n",
              "      <td>Meme Chat is the ultimate social networking ap...</td>\n",
              "      <td>Meme Chat is the ultimate social networking ap...</td>\n",
              "      <td>Make Memes, Make Money &amp; Make Communities - In...</td>\n",
              "      <td>Make Memes, Make Money &amp;amp; Make Communities ...</td>\n",
              "      <td>1,000,000+</td>\n",
              "      <td>1000000</td>\n",
              "      <td>3.819422</td>\n",
              "      <td>18148</td>\n",
              "      <td>7206</td>\n",
              "      <td>[4129, 613, 980, 1109, 11317]</td>\n",
              "      <td>0</td>\n",
              "      <td>True</td>\n",
              "      <td>USD</td>\n",
              "      <td>False</td>\n",
              "      <td>None</td>\n",
              "      <td>None</td>\n",
              "      <td>None</td>\n",
              "      <td>False</td>\n",
              "      <td>None</td>\n",
              "      <td>66M</td>\n",
              "      <td>5.0</td>\n",
              "      <td>5.0 and up</td>\n",
              "      <td>Meme Chat Pvt. Ltd.</td>\n",
              "      <td>Meme+Chat+Pvt.+Ltd.</td>\n",
              "      <td>contact@memechat.app</td>\n",
              "      <td>http://memechat.app/</td>\n",
              "      <td>None</td>\n",
              "      <td>https://memechat.app/privacy.html</td>\n",
              "      <td>9035387236720478977</td>\n",
              "      <td>Entertainment</td>\n",
              "      <td>ENTERTAINMENT</td>\n",
              "      <td>https://play-lh.googleusercontent.com/oUkmCh_d...</td>\n",
              "      <td>https://play-lh.googleusercontent.com/Dp0t9s5r...</td>\n",
              "      <td>[https://play-lh.googleusercontent.com/WkOg52Z...</td>\n",
              "      <td>None</td>\n",
              "      <td>None</td>\n",
              "      <td>Mature 17+</td>\n",
              "      <td>None</td>\n",
              "      <td>True</td>\n",
              "      <td>True</td>\n",
              "      <td>Jul 5, 2017</td>\n",
              "      <td>1609507895</td>\n",
              "      <td>5.02</td>\n",
              "      <td>NEW YEAR, NEW UPDATE: A LOT OF NEW THINGS ARE ...</td>\n",
              "      <td>NEW YEAR, NEW UPDATE: A LOT OF NEW THINGS ARE ...</td>\n",
              "      <td>False</td>\n",
              "      <td>sisinc.com.sis</td>\n",
              "      <td>https://play.google.com/store/apps/details?id=...</td>\n",
              "    </tr>\n",
              "  </tbody>\n",
              "</table>\n",
              "</div>"
            ],
            "text/plain": [
              "                                       title  ...                                                url\n",
              "0  MemeChat - Memes, Keyboard, Trends & News  ...  https://play.google.com/store/apps/details?id=...\n",
              "\n",
              "[1 rows x 49 columns]"
            ]
          },
          "metadata": {
            "tags": []
          },
          "execution_count": 28
        }
      ]
    },
    {
      "cell_type": "code",
      "metadata": {
        "id": "n4brViA9XNCY"
      },
      "source": [
        "#he app information for later by converting the JSON objects into a Pandas dataframe as to  save the result into a CSV file:"
      ],
      "execution_count": null,
      "outputs": []
    },
    {
      "cell_type": "code",
      "metadata": {
        "id": "159qqFr3WjnV"
      },
      "source": [
        "app_infos_df = pd.DataFrame(app_infos)\n",
        "app_infos_df.to_csv('apps.csv', index=None, header=True)"
      ],
      "execution_count": null,
      "outputs": []
    },
    {
      "cell_type": "code",
      "metadata": {
        "colab": {
          "base_uri": "https://localhost:8080/"
        },
        "id": "0aOHmG8FXKNS",
        "outputId": "3f079d8d-0e32-418a-c292-50977a625792"
      },
      "source": [
        "app_reviews = []\n",
        "\n",
        "for ap in tqdm(app_packages):\n",
        "  for score in list(range(1, 6)):\n",
        "    for sort_order in [Sort.RATING]:\n",
        "      rvs, _ = reviews(\n",
        "        ap,\n",
        "        lang='en',\n",
        "        country='us',\n",
        "        sort=sort_order,\n",
        "        count= 30000 if score == 3 else 30000,\n",
        "        filter_score_with=score\n",
        "      )\n",
        "      for r in rvs:\n",
        "        r['sortOrder'] = 'rating'\n",
        "        r['appId'] = ap\n",
        "      app_reviews.extend(rvs)\n",
        "       "
      ],
      "execution_count": null,
      "outputs": [
        {
          "output_type": "stream",
          "text": [
            "100%|██████████| 1/1 [00:07<00:00,  7.32s/it]\n"
          ],
          "name": "stderr"
        }
      ]
    },
    {
      "cell_type": "code",
      "metadata": {
        "colab": {
          "base_uri": "https://localhost:8080/"
        },
        "id": "_btfBID-XkYV",
        "outputId": "5721068f-edb4-4789-9445-d4261d84e566"
      },
      "source": [
        "\n",
        "print_json(app_reviews[0])\n"
      ],
      "execution_count": null,
      "outputs": [
        {
          "output_type": "stream",
          "text": [
            "{\n",
            "  \u001b[94m\"appId\"\u001b[39;49;00m: \u001b[33m\"sisinc.com.sis\"\u001b[39;49;00m,\n",
            "  \u001b[94m\"at\"\u001b[39;49;00m: \u001b[33m\"2020-05-16 09:26:38\"\u001b[39;49;00m,\n",
            "  \u001b[94m\"content\"\u001b[39;49;00m: \u001b[33m\"Faltu app hai aur devloper corrupted ,paise ka lalch dekar 5 star dene ko khte hain users se. Mtlb ki inko khud ko pta hai ki bakwas app hai ye\"\u001b[39;49;00m,\n",
            "  \u001b[94m\"repliedAt\"\u001b[39;49;00m: \u001b[34mnull\u001b[39;49;00m,\n",
            "  \u001b[94m\"replyContent\"\u001b[39;49;00m: \u001b[34mnull\u001b[39;49;00m,\n",
            "  \u001b[94m\"reviewCreatedVersion\"\u001b[39;49;00m: \u001b[34mnull\u001b[39;49;00m,\n",
            "  \u001b[94m\"reviewId\"\u001b[39;49;00m: \u001b[33m\"gp:AOqpTOGBbMUyG15Eln0JiGMxiYK4UYsN9B30JMXP3HrU_nkzOofMl30ZDIoR87NmQn3dOVz9UCwwX_xJvg9rGw\"\u001b[39;49;00m,\n",
            "  \u001b[94m\"score\"\u001b[39;49;00m: \u001b[34m1\u001b[39;49;00m,\n",
            "  \u001b[94m\"sortOrder\"\u001b[39;49;00m: \u001b[33m\"rating\"\u001b[39;49;00m,\n",
            "  \u001b[94m\"thumbsUpCount\"\u001b[39;49;00m: \u001b[34m0\u001b[39;49;00m,\n",
            "  \u001b[94m\"userImage\"\u001b[39;49;00m: \u001b[33m\"https://play-lh.googleusercontent.com/-QNiy4SBid8M/AAAAAAAAAAI/AAAAAAAAAAA/AMZuucnDA84uMCR1h48ROjU_wc4AnKffNQ/photo.jpg\"\u001b[39;49;00m,\n",
            "  \u001b[94m\"userName\"\u001b[39;49;00m: \u001b[33m\"Ihtesham Faisal\"\u001b[39;49;00m\n",
            "}\n",
            "\n"
          ],
          "name": "stdout"
        }
      ]
    },
    {
      "cell_type": "code",
      "metadata": {
        "colab": {
          "base_uri": "https://localhost:8080/"
        },
        "id": "OzVSr_maaX0R",
        "outputId": "f397eb15-71d6-4374-9ef0-a7c311a5f03e"
      },
      "source": [
        "\n",
        "len(app_reviews)"
      ],
      "execution_count": null,
      "outputs": [
        {
          "output_type": "execute_result",
          "data": {
            "text/plain": [
              "7194"
            ]
          },
          "metadata": {
            "tags": []
          },
          "execution_count": 136
        }
      ]
    },
    {
      "cell_type": "code",
      "metadata": {
        "id": "eJXVeHkUaduG"
      },
      "source": [
        "\n",
        "app_reviews_df = pd.DataFrame(app_reviews)\n",
        "app_reviews_df.to_csv('reviews.csv', index=None, header=True)"
      ],
      "execution_count": null,
      "outputs": []
    },
    {
      "cell_type": "code",
      "metadata": {
        "id": "7cDhh8Kf5nJn"
      },
      "source": [
        ""
      ],
      "execution_count": null,
      "outputs": []
    }
  ]
}